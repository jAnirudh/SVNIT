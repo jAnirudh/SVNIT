{
 "cells": [
  {
   "cell_type": "markdown",
   "id": "086b6de9",
   "metadata": {},
   "source": [
    "\n",
    "# Linear Regression in Python 3.x\n",
    "## Multiple Linear Regression for ARC Welding Data\n",
    "### Anirudh Jonnalagadda, PhD\n",
    "##### Shell Postdoctoral Fellow @ CDS, IISc\n",
    "###### (anirudhj@iisc.ac.in)\n",
    "\n",
    "Data taken from [Pal _et. al_ (2008) Journal of materials processing technology](https://doi.org/10.1016/j.jmatprotec.2007.09.039)"
   ]
  },
  {
   "cell_type": "markdown",
   "id": "bacfb0ab",
   "metadata": {},
   "source": [
    "### Linear Regression Using Scikit-learn"
   ]
  },
  {
   "cell_type": "code",
   "execution_count": null,
   "id": "75e8bc69",
   "metadata": {},
   "outputs": [],
   "source": [
    "# # for google colab\n",
    "# !git clone https://github.com/jAnirudh/SVNIT.git"
   ]
  },
  {
   "cell_type": "code",
   "execution_count": null,
   "id": "2475a039",
   "metadata": {},
   "outputs": [],
   "source": [
    "# # for google colab\n",
    "# import os\n",
    "# os.chdir('SVNIT') # change directory"
   ]
  },
  {
   "cell_type": "code",
   "execution_count": null,
   "id": "39ad87ca",
   "metadata": {},
   "outputs": [],
   "source": [
    "import pandas\n",
    "dataframe = pandas.read_csv('arc_welding.csv')"
   ]
  },
  {
   "cell_type": "code",
   "execution_count": null,
   "id": "4df05174",
   "metadata": {},
   "outputs": [],
   "source": [
    "# Lets see the contents of the dataframe\n",
    "dataframe.head() # top 5 rows"
   ]
  },
  {
   "cell_type": "code",
   "execution_count": null,
   "id": "e641c5e9",
   "metadata": {},
   "outputs": [],
   "source": [
    "dataframe.tail() # last 5 rows"
   ]
  },
  {
   "cell_type": "code",
   "execution_count": null,
   "id": "c6ea6f66",
   "metadata": {},
   "outputs": [],
   "source": [
    "# how many rows and columns do we have?\n",
    "print('nrows = {:}; ncolumns = {:}'.format(len(dataframe), dataframe.columns.size))"
   ]
  },
  {
   "cell_type": "code",
   "execution_count": null,
   "id": "7863127a",
   "metadata": {},
   "outputs": [],
   "source": [
    "# if you have larger number of columns?\n",
    "dataframe.columns"
   ]
  },
  {
   "cell_type": "code",
   "execution_count": null,
   "id": "ca9c50fa",
   "metadata": {},
   "outputs": [],
   "source": [
    "# let's drop the \"Experiment no.\" column\n",
    "df = dataframe.drop('Experiment no.', axis = 1) # axis = 1 for a column, 0 for a row"
   ]
  },
  {
   "cell_type": "code",
   "execution_count": null,
   "id": "0ee343ff",
   "metadata": {},
   "outputs": [],
   "source": [
    "df.head()"
   ]
  },
  {
   "cell_type": "code",
   "execution_count": null,
   "id": "e77055b2",
   "metadata": {},
   "outputs": [],
   "source": [
    "# say you want to see the values of a particular column\n",
    "df['Background voltage (VB)']"
   ]
  },
  {
   "cell_type": "code",
   "execution_count": null,
   "id": "540b50f4",
   "metadata": {
    "scrolled": true
   },
   "outputs": [],
   "source": [
    "# This is because you generally do not know how the columns are named\n",
    "df[df.columns[0]]"
   ]
  },
  {
   "cell_type": "code",
   "execution_count": null,
   "id": "2e896f15",
   "metadata": {},
   "outputs": [],
   "source": [
    "# It is therefore generally easier to just rename the columns more to be legible\n",
    "df.columns = ['background_voltage', 'pulse_voltage', 'pulse_frequency', 'pulse_duty_factor', \n",
    "              'wire_feed_rate', 'table_feed_rate', 'rms_current', 'rms_voltage', 'uts']"
   ]
  },
  {
   "cell_type": "code",
   "execution_count": null,
   "id": "2c9cfa71",
   "metadata": {},
   "outputs": [],
   "source": [
    "df.head()"
   ]
  },
  {
   "cell_type": "code",
   "execution_count": null,
   "id": "7f5fa0b0",
   "metadata": {},
   "outputs": [],
   "source": []
  },
  {
   "cell_type": "code",
   "execution_count": null,
   "id": "552977c7",
   "metadata": {},
   "outputs": [],
   "source": []
  },
  {
   "cell_type": "markdown",
   "id": "e3270ebe",
   "metadata": {},
   "source": [
    "### Let's do regression"
   ]
  },
  {
   "cell_type": "code",
   "execution_count": null,
   "id": "c6514eb7",
   "metadata": {},
   "outputs": [],
   "source": [
    "# isolate the dependant variables\n",
    "X = df[df.columns[:-1]]\n",
    "X.head()"
   ]
  },
  {
   "cell_type": "code",
   "execution_count": null,
   "id": "a605f4b7",
   "metadata": {},
   "outputs": [],
   "source": [
    "# Isolate the inpendant variable\n",
    "Y = df[df.columns[-1]]"
   ]
  },
  {
   "cell_type": "code",
   "execution_count": null,
   "id": "61e8b333",
   "metadata": {},
   "outputs": [],
   "source": [
    "# Create the regression object\n",
    "from sklearn import linear_model\n",
    "model = linear_model.LinearRegression()"
   ]
  },
  {
   "cell_type": "code",
   "execution_count": null,
   "id": "2c3b907e",
   "metadata": {},
   "outputs": [],
   "source": [
    "# fit\n",
    "model.fit(X, Y)"
   ]
  },
  {
   "cell_type": "code",
   "execution_count": null,
   "id": "57cc93a6",
   "metadata": {},
   "outputs": [],
   "source": [
    "# get the regression coefficients\n",
    "model.coef_"
   ]
  },
  {
   "cell_type": "code",
   "execution_count": null,
   "id": "315592ee",
   "metadata": {},
   "outputs": [],
   "source": [
    "# get the regression intercept\n",
    "model.intercept_"
   ]
  }
 ],
 "metadata": {
  "kernelspec": {
   "display_name": "Python 3 (ipykernel)",
   "language": "python",
   "name": "python3"
  },
  "language_info": {
   "codemirror_mode": {
    "name": "ipython",
    "version": 3
   },
   "file_extension": ".py",
   "mimetype": "text/x-python",
   "name": "python",
   "nbconvert_exporter": "python",
   "pygments_lexer": "ipython3",
   "version": "3.8.10"
  }
 },
 "nbformat": 4,
 "nbformat_minor": 5
}
