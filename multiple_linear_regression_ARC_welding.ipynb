{
 "cells": [
  {
   "cell_type": "markdown",
   "id": "086b6de9",
   "metadata": {},
   "source": [
    "\n",
    "# Linear Regression in Python 3.x\n",
    "## Multiple Linear Regression for ARC Welding Data\n",
    "### Anirudh Jonnalagadda, PhD\n",
    "##### Shell Postdoctoral Fellow @ CDS, IISc\n",
    "###### (anirudhj@iisc.ac.in)\n",
    "\n",
    "Data taken from [Pal _et. al_ (2008) Journal of materials processing technology](https://doi.org/10.1016/j.jmatprotec.2007.09.039)"
   ]
  },
  {
   "cell_type": "code",
   "execution_count": null,
   "id": "131f2153",
   "metadata": {},
   "outputs": [],
   "source": [
    "# # for google colab\n",
    "# !git clone https://github.com/jAnirudh/SVNIT.git"
   ]
  },
  {
   "cell_type": "code",
   "execution_count": null,
   "id": "9f66f3c0",
   "metadata": {},
   "outputs": [],
   "source": [
    "import os\n",
    "os.listdir('.') # list contents of current working directory \n",
    "os.chdir('SVNIT')"
   ]
  },
  {
   "cell_type": "code",
   "execution_count": null,
   "id": "44a91717",
   "metadata": {},
   "outputs": [],
   "source": [
    "import pandas\n",
    "pandas.read_csv('arc_welding.csv')"
   ]
  }
 ],
 "metadata": {
  "kernelspec": {
   "display_name": "Python 3 (ipykernel)",
   "language": "python",
   "name": "python3"
  },
  "language_info": {
   "codemirror_mode": {
    "name": "ipython",
    "version": 3
   },
   "file_extension": ".py",
   "mimetype": "text/x-python",
   "name": "python",
   "nbconvert_exporter": "python",
   "pygments_lexer": "ipython3",
   "version": "3.8.10"
  }
 },
 "nbformat": 4,
 "nbformat_minor": 5
}
