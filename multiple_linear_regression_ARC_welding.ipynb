{
 "cells": [
  {
   "cell_type": "markdown",
   "id": "086b6de9",
   "metadata": {},
   "source": [
    "\n",
    "# Linear Regression in Python 3.x\n",
    "## Multiple Linear Regression for ARC Welding Data\n",
    "### Anirudh Jonnalagadda, PhD\n",
    "##### Shell Postdoctoral Fellow @ CDS, IISc\n",
    "###### (anirudhj@iisc.ac.in)\n",
    "\n",
    "Data taken from [Pal _et. al_ (2008) Journal of materials processing technology](https://doi.org/10.1016/j.jmatprotec.2007.09.039)"
   ]
  },
  {
   "cell_type": "code",
   "execution_count": null,
   "id": "5f3c8dcd",
   "metadata": {},
   "outputs": [],
   "source": [
    "import os\n",
    "os.listdir('.') # list contents of current working directory "
   ]
  }
 ],
 "metadata": {
  "kernelspec": {
   "display_name": "Python 3 (ipykernel)",
   "language": "python",
   "name": "python3"
  },
  "language_info": {
   "codemirror_mode": {
    "name": "ipython",
    "version": 3
   },
   "file_extension": ".py",
   "mimetype": "text/x-python",
   "name": "python",
   "nbconvert_exporter": "python",
   "pygments_lexer": "ipython3",
   "version": "3.8.10"
  }
 },
 "nbformat": 4,
 "nbformat_minor": 5
}
