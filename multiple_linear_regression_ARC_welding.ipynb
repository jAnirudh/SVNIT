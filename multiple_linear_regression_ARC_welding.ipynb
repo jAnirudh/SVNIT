{
 "cells": [
  {
   "cell_type": "markdown",
   "id": "086b6de9",
   "metadata": {},
   "source": [
    "\n",
    "# Linear Regression in Python 3.x\n",
    "## Multiple Linear Regression for ARC Welding Data\n",
    "### Anirudh Jonnalagadda, PhD\n",
    "##### Shell Postdoctoral Fellow @ CDS, IISc\n",
    "###### (anirudhj@iisc.ac.in)\n",
    "\n",
    "Data taken from [Pal _et. al_ (2008) Journal of materials processing technology](https://doi.org/10.1016/j.jmatprotec.2007.09.039)"
   ]
  },
  {
   "cell_type": "markdown",
   "id": "bacfb0ab",
   "metadata": {},
   "source": [
    "### Linear Regression Using Scikit-learn"
   ]
  },
  {
   "cell_type": "code",
   "execution_count": null,
   "id": "a2e4bd43",
   "metadata": {},
   "outputs": [],
   "source": [
    "# # for google colab\n",
    "# !git clone https://github.com/jAnirudh/SVNIT.git"
   ]
  },
  {
   "cell_type": "code",
   "execution_count": null,
   "id": "99e8fa40",
   "metadata": {},
   "outputs": [],
   "source": [
    "# # for google colab\n",
    "# import os\n",
    "# os.chdir('SVNIT') # change directory"
   ]
  },
  {
   "cell_type": "code",
   "execution_count": null,
   "id": "b05d010a",
   "metadata": {},
   "outputs": [],
   "source": [
    "import pandas\n",
    "dataframe = pandas.read_csv('arc_welding.csv')"
   ]
  },
  {
   "cell_type": "code",
   "execution_count": null,
   "id": "940f1d61",
   "metadata": {},
   "outputs": [],
   "source": [
    "# Lets see the contents of the dataframe\n",
    "dataframe.head() # top 5 rows"
   ]
  },
  {
   "cell_type": "code",
   "execution_count": null,
   "id": "2c681f85",
   "metadata": {},
   "outputs": [],
   "source": [
    "dataframe.tail() # last 5 rows"
   ]
  },
  {
   "cell_type": "code",
   "execution_count": null,
   "id": "26a03733",
   "metadata": {},
   "outputs": [],
   "source": [
    "# how many rows and columns do we have?\n",
    "print('nrows = {:}; ncolumns = {:}'.format(len(dataframe), dataframe.columns.size))"
   ]
  },
  {
   "cell_type": "code",
   "execution_count": null,
   "id": "2cb35eef",
   "metadata": {},
   "outputs": [],
   "source": [
    "# if you have larger number of columns?\n",
    "dataframe.columns"
   ]
  },
  {
   "cell_type": "code",
   "execution_count": null,
   "id": "2816e247",
   "metadata": {},
   "outputs": [],
   "source": [
    "# let's drop the \"Experiment no.\" column\n",
    "df = dataframe.drop('Experiment no.', axis = 1) # axis = 1 for a column, 0 for a row"
   ]
  },
  {
   "cell_type": "code",
   "execution_count": null,
   "id": "7dad5825",
   "metadata": {},
   "outputs": [],
   "source": [
    "df.head()"
   ]
  },
  {
   "cell_type": "code",
   "execution_count": null,
   "id": "0cc52f66",
   "metadata": {},
   "outputs": [],
   "source": [
    "# say you want to see the values of a particular column\n",
    "df['Background voltage (VB)']"
   ]
  },
  {
   "cell_type": "code",
   "execution_count": null,
   "id": "88076103",
   "metadata": {
    "scrolled": true
   },
   "outputs": [],
   "source": [
    "# This is because you generally do not know how the columns are named\n",
    "df[df.columns[0]]"
   ]
  },
  {
   "cell_type": "code",
   "execution_count": null,
   "id": "7ba795ac",
   "metadata": {},
   "outputs": [],
   "source": [
    "# It is therefore generally easier to just rename the columns more to be legible\n",
    "df.columns = ['background_voltage', 'pulse_voltage', 'pulse_frequency', 'pulse_duty_factor', \n",
    "              'wire_feed_rate', 'table_feed_rate', 'rms_current', 'rms_voltage', 'uts']"
   ]
  },
  {
   "cell_type": "code",
   "execution_count": null,
   "id": "67a09bb1",
   "metadata": {},
   "outputs": [],
   "source": [
    "df.head()"
   ]
  },
  {
   "cell_type": "code",
   "execution_count": null,
   "id": "35e6c09b",
   "metadata": {},
   "outputs": [],
   "source": []
  },
  {
   "cell_type": "code",
   "execution_count": null,
   "id": "4683335f",
   "metadata": {},
   "outputs": [],
   "source": []
  },
  {
   "cell_type": "markdown",
   "id": "9b18a9e3",
   "metadata": {},
   "source": [
    "### Let's do regression"
   ]
  },
  {
   "cell_type": "code",
   "execution_count": null,
   "id": "4799e2c8",
   "metadata": {},
   "outputs": [],
   "source": [
    "# isolate the dependant variables\n",
    "X = df[df.columns[:-1]]\n",
    "X.head()"
   ]
  },
  {
   "cell_type": "code",
   "execution_count": null,
   "id": "b37c70d9",
   "metadata": {},
   "outputs": [],
   "source": [
    "# Isolate the inpendant variable\n",
    "Y = df[df.columns[-1]]"
   ]
  },
  {
   "cell_type": "code",
   "execution_count": null,
   "id": "7e4af958",
   "metadata": {},
   "outputs": [],
   "source": [
    "# Create the regression object\n",
    "from sklearn import linear_model\n",
    "model = linear_model.LinearRegression()"
   ]
  },
  {
   "cell_type": "code",
   "execution_count": null,
   "id": "1bf67159",
   "metadata": {},
   "outputs": [],
   "source": [
    "# fit\n",
    "model.fit(df[df.columns[:-1]], df[df.columns[-1]])"
   ]
  },
  {
   "cell_type": "code",
   "execution_count": null,
   "id": "974a71ec",
   "metadata": {},
   "outputs": [],
   "source": [
    "# get the regression coefficients\n",
    "model.coef_"
   ]
  },
  {
   "cell_type": "code",
   "execution_count": null,
   "id": "5d4ce5d5",
   "metadata": {},
   "outputs": [],
   "source": [
    "# get the regression intercept\n",
    "model.intercept_"
   ]
  }
 ],
 "metadata": {
  "kernelspec": {
   "display_name": "Python 3 (ipykernel)",
   "language": "python",
   "name": "python3"
  },
  "language_info": {
   "codemirror_mode": {
    "name": "ipython",
    "version": 3
   },
   "file_extension": ".py",
   "mimetype": "text/x-python",
   "name": "python",
   "nbconvert_exporter": "python",
   "pygments_lexer": "ipython3",
   "version": "3.8.10"
  }
 },
 "nbformat": 4,
 "nbformat_minor": 5
}
