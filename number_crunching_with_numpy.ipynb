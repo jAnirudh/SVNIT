{
 "cells": [
  {
   "cell_type": "markdown",
   "id": "086b6de9",
   "metadata": {},
   "source": [
    "\n",
    "# Linear Regression in Python 3.x\n",
    "## Python Libraries for Data Science - NumPy, Matplotlib\n",
    "### Anirudh Jonnalagadda, PhD\n",
    "##### Shell Postdoctoral Fellow @ CDS, IISc\n",
    "###### (anirudhj@iisc.ac.in)"
   ]
  },
  {
   "cell_type": "markdown",
   "id": "3e03358c",
   "metadata": {},
   "source": [
    "### NUMerical Python - The fundamental package for scientific computing with Python (numpy.org)\n",
    "\n",
    "- Essentially, NumPy lets you create, and manipulate arrays within Python.\n",
    "- You may wonder, what's the big deal? Can I not use lists which is provided by default? "
   ]
  },
  {
   "cell_type": "code",
   "execution_count": null,
   "id": "002fe494",
   "metadata": {},
   "outputs": [],
   "source": [
    "# creating lists\n",
    "l1 = [1, 2, 3, 4, 5] # python2\n",
    "l = list([1, 2, 3, 4, 5]) # python3 (This is more clear to understand)"
   ]
  },
  {
   "cell_type": "code",
   "execution_count": null,
   "id": "3a5f486a",
   "metadata": {
    "scrolled": true
   },
   "outputs": [],
   "source": [
    "# limitations of list operations\n",
    "l+5"
   ]
  },
  {
   "cell_type": "code",
   "execution_count": null,
   "id": "b8d02e00",
   "metadata": {},
   "outputs": [],
   "source": [
    "# Two ways to add a number to every element to a list\n",
    "\n",
    "# Use for loops\n",
    "new_list = list()\n",
    "for i in range(len(l)): # len(l): length of l & range(n) iterates over the range [0, n)\n",
    "    new_list.append(l[i] + 5)\n",
    "print(\"new_list = {}\".format(new_list)) # Python3 style of printing \n",
    "\n",
    "# Use list comprehension\n",
    "new_list2 = [l[i]+5 for i in range(len(l))]\n",
    "print(\"new_list2 = {}\".format(new_list2))"
   ]
  },
  {
   "cell_type": "code",
   "execution_count": null,
   "id": "cd47af97",
   "metadata": {},
   "outputs": [],
   "source": [
    "%%timeit\n",
    "new_list = list()\n",
    "for i in range(len(l)):\n",
    "    new_list.append(l[i] + 5)"
   ]
  },
  {
   "cell_type": "code",
   "execution_count": null,
   "id": "2ea82ef6",
   "metadata": {},
   "outputs": [],
   "source": [
    "%%timeit\n",
    "[l[i]+5 for i in range(len(l))]"
   ]
  },
  {
   "cell_type": "markdown",
   "id": "8c83dd88",
   "metadata": {},
   "source": [
    "_List Comprehension is faster than the vannila for loop!!_\n",
    "\n",
    "What about NumPy?"
   ]
  },
  {
   "cell_type": "code",
   "execution_count": null,
   "id": "11435ef5",
   "metadata": {},
   "outputs": [],
   "source": [
    "import numpy # general convention is import numpy as np\n",
    "\n",
    "A = numpy.array(l)\n",
    "A"
   ]
  },
  {
   "cell_type": "code",
   "execution_count": null,
   "id": "87da5e53",
   "metadata": {},
   "outputs": [],
   "source": [
    "A + 5"
   ]
  },
  {
   "cell_type": "code",
   "execution_count": null,
   "id": "bf302cc3",
   "metadata": {},
   "outputs": [],
   "source": [
    "%%timeit\n",
    "A+5"
   ]
  },
  {
   "cell_type": "markdown",
   "id": "893e1126",
   "metadata": {},
   "source": [
    "__The performance improvement isn't that great__\n",
    "\n",
    "But lets look at a 25 data values instead of 5..."
   ]
  },
  {
   "cell_type": "code",
   "execution_count": null,
   "id": "203daaaa",
   "metadata": {},
   "outputs": [],
   "source": [
    "l1 = [i for i in range(25)]"
   ]
  },
  {
   "cell_type": "code",
   "execution_count": null,
   "id": "d903c35e",
   "metadata": {},
   "outputs": [],
   "source": [
    "%%timeit\n",
    "new_list = list()\n",
    "for i in range(len(l1)):\n",
    "    new_list.append(l1[i] + 5)"
   ]
  },
  {
   "cell_type": "code",
   "execution_count": null,
   "id": "48be89e2",
   "metadata": {},
   "outputs": [],
   "source": [
    "%%timeit\n",
    "[l1[i]+5 for i in range(len(l1))]"
   ]
  },
  {
   "cell_type": "code",
   "execution_count": null,
   "id": "ab8b2f26",
   "metadata": {},
   "outputs": [],
   "source": [
    "A = numpy.array(l1)"
   ]
  },
  {
   "cell_type": "code",
   "execution_count": null,
   "id": "decc6eeb",
   "metadata": {
    "scrolled": true
   },
   "outputs": [],
   "source": [
    "%%timeit\n",
    "A+5"
   ]
  },
  {
   "cell_type": "markdown",
   "id": "602a281f",
   "metadata": {},
   "source": [
    "__NumPy improves your efficiency both in terms of computational cost, but also in terms of how you think.__"
   ]
  },
  {
   "cell_type": "markdown",
   "id": "24f82acb",
   "metadata": {},
   "source": [
    "### Quick Demo of how to write efficient code with NumPy\n",
    "\n",
    "- Use __in-built__ NumPy methods as much as possible. The NumPy developers have spent years in optimizing these methods\n",
    "- Make use array slices as much as possible, use as few for loops as possible\n",
    "\n",
    "We consider a simple numerical derivative example. We want to find the value of $\\frac{d}{dx}\\sin(x)$ over \\[0, $2\\pi$\\] using definition of derivative i.e. $\\frac{dy}{dx} = \\lim\\limits_{h\\to0}\\frac{y(x+h/2)-y(x-h/2)}{h}$.\n",
    "\n"
   ]
  },
  {
   "cell_type": "code",
   "execution_count": null,
   "id": "4e5c5bd7",
   "metadata": {},
   "outputs": [],
   "source": [
    "n = 101                     # number of grid points\n",
    "a = 0                       # lower bound  \n",
    "b = 2*numpy.pi              # upper bound\n",
    "x = numpy.linspace(a, b, n) # equally spaced grid\n",
    "y = numpy.sin(x)            # integrand"
   ]
  },
  {
   "cell_type": "code",
   "execution_count": null,
   "id": "0d11e120",
   "metadata": {},
   "outputs": [],
   "source": [
    "def numpy_derivative():\n",
    "    dy = y[1:]-y[:-1]\n",
    "    dx = x[1:]-x[:-1]\n",
    "    dy_dx = dy/dx\n",
    "    return dy_dx\n",
    "\n",
    "def std_derivative():\n",
    "    h = (b-a)/n\n",
    "    dy_dx = numpy.zeros(n-1) # array initialized with zeros\n",
    "    for i in range(n-1):\n",
    "        dy_dx[i] = (y[i+1]-y[i])/h\n",
    "    return dy_dx"
   ]
  },
  {
   "cell_type": "markdown",
   "id": "4b66a15b",
   "metadata": {},
   "source": [
    "## Matplotlib\n",
    "\n",
    "[Matplotlib](https://matplotlib.org/) is Python's plotting package. It is extensively well documented, and provides several (!!) [examples](https://matplotlib.org/stable/plot_types/index.html) for plotting - someone, somewhere has most likely plotted something like what you could ever want to plot (see [gallery](https://matplotlib.org/stable/gallery/index.html) and [tutorials](https://matplotlib.org/stable/tutorials/index.html)). And there's always Google and stackexchange.\n",
    "\n"
   ]
  },
  {
   "cell_type": "code",
   "execution_count": null,
   "id": "575e02a0",
   "metadata": {},
   "outputs": [],
   "source": [
    "import matplotlib.pyplot as plot\n",
    "def plot_figure():\n",
    "    fig = plot.figure()\n",
    "    ax = fig.add_subplot(111) # 2 subplot with 1 row and 2 columns\n",
    "    ax.plot(x, y, label=r\"$y=\\sin(x)$\")\n",
    "    ax.plot((x[1:]+x[:-1])/2.0, std_derivative(), '-', label= r\"$\\frac{dy}{dx}$ - $Standard$\")\n",
    "    ax.plot((x[1:]+x[:-1])/2.0, numpy_derivative(), '--', label= r\"$\\frac{dy}{dx}$ - $NumPy$\")\n",
    "    ax.set_ylabel(r\"$y(x)$\")\n",
    "    ax.set_yticks([-1, 0, 1])\n",
    "    ax.set_yticklabels([-1, 0, 1])\n",
    "    ax.set_xlabel(r\"$x$\")\n",
    "    ax.set_xticks([0, numpy.pi, 2*numpy.pi])\n",
    "    ax.set_xticklabels([0, r'$\\pi$', r'$2\\pi$'])\n",
    "    plot.legend()\n",
    "    return fig, ax"
   ]
  },
  {
   "cell_type": "code",
   "execution_count": null,
   "id": "87b7d98f",
   "metadata": {},
   "outputs": [],
   "source": [
    "fig, ax = plot_figure()\n",
    "plot.show()"
   ]
  },
  {
   "cell_type": "code",
   "execution_count": null,
   "id": "e6becc56",
   "metadata": {},
   "outputs": [],
   "source": [
    "# Let's make some changes to make the image more pretty\n",
    "import matplotlib\n",
    "# Let's use LaTeX style math mode texts\n",
    "# Warning: This requires a local installation of LaTeX - Windows users may have trouble\n",
    "matplotlib.rcParams['text.usetex'] = True\n",
    "matplotlib.rcParams[\"font.size\"] = \"16\"\n",
    "matplotlib.rcParams['ytick.labelsize'] = 12\n",
    "matplotlib.rcParams['xtick.labelsize'] = 12"
   ]
  },
  {
   "cell_type": "code",
   "execution_count": null,
   "id": "9d1dbe96",
   "metadata": {},
   "outputs": [],
   "source": [
    "fig, ax = plot_figure()\n",
    "ax.tick_params(axis=\"y\",direction=\"in\", length=5,bottom=True, top=True, left=True, right=True)\n",
    "ax.tick_params(axis=\"x\",direction=\"in\", length=5,bottom=True, top=True, left=True, right=True)\n",
    "plot.show()"
   ]
  },
  {
   "cell_type": "markdown",
   "id": "e2911c91",
   "metadata": {},
   "source": [
    "Now, Let's time the implementations of the two derivative implementations we made earlier."
   ]
  },
  {
   "cell_type": "code",
   "execution_count": null,
   "id": "13470101",
   "metadata": {},
   "outputs": [],
   "source": [
    "%%timeit\n",
    "std_derivative()"
   ]
  },
  {
   "cell_type": "code",
   "execution_count": null,
   "id": "14a268ce",
   "metadata": {
    "scrolled": true
   },
   "outputs": [],
   "source": [
    "%%timeit\n",
    "numpy_derivative()"
   ]
  },
  {
   "cell_type": "markdown",
   "id": "675923fd",
   "metadata": {},
   "source": [
    "NumPy is an extremely optimized library which enables efficient array manipulations required for numerical computations making it the backbone of all scientific computing packages. See NumPy documentation for full functionality."
   ]
  }
 ],
 "metadata": {
  "kernelspec": {
   "display_name": "Python 3 (ipykernel)",
   "language": "python",
   "name": "python3"
  },
  "language_info": {
   "codemirror_mode": {
    "name": "ipython",
    "version": 3
   },
   "file_extension": ".py",
   "mimetype": "text/x-python",
   "name": "python",
   "nbconvert_exporter": "python",
   "pygments_lexer": "ipython3",
   "version": "3.8.10"
  }
 },
 "nbformat": 4,
 "nbformat_minor": 5
}
